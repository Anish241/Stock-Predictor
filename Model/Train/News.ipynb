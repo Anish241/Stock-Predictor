{
 "cells": [
  {
   "cell_type": "code",
   "execution_count": 1,
   "metadata": {},
   "outputs": [],
   "source": [
    "import pandas as pd\n",
    "from GoogleNews import GoogleNews\n",
    "import numpy as np\n",
    "import re\n",
    "import tensorflow as tf\n",
    "from tensorflow.keras.preprocessing.text import Tokenizer\n",
    "from tensorflow.keras.preprocessing.sequence import pad_sequences\n",
    "from tensorflow.keras import layers\n",
    "from tensorflow.keras.models import load_model\n",
    "import pickle"
   ]
  },
  {
   "cell_type": "code",
   "execution_count": 3,
   "metadata": {},
   "outputs": [
    {
     "data": {
      "text/html": [
       "<div>\n",
       "<style scoped>\n",
       "    .dataframe tbody tr th:only-of-type {\n",
       "        vertical-align: middle;\n",
       "    }\n",
       "\n",
       "    .dataframe tbody tr th {\n",
       "        vertical-align: top;\n",
       "    }\n",
       "\n",
       "    .dataframe thead th {\n",
       "        text-align: right;\n",
       "    }\n",
       "</style>\n",
       "<table border=\"1\" class=\"dataframe\">\n",
       "  <thead>\n",
       "    <tr style=\"text-align: right;\">\n",
       "      <th></th>\n",
       "      <th>title</th>\n",
       "      <th>media</th>\n",
       "      <th>date</th>\n",
       "      <th>datetime</th>\n",
       "      <th>desc</th>\n",
       "      <th>link</th>\n",
       "      <th>img</th>\n",
       "    </tr>\n",
       "  </thead>\n",
       "  <tbody>\n",
       "    <tr>\n",
       "      <th>0</th>\n",
       "      <td>Reliance JioBook laptop on sale for ₹16,499. H...</td>\n",
       "      <td>Hindustan Times</td>\n",
       "      <td>2 days ago</td>\n",
       "      <td>2023-08-04 14:00:14.020499</td>\n",
       "      <td>Reliance Retail on Monday announced the second...</td>\n",
       "      <td>https://www.hindustantimes.com/technology/reli...</td>\n",
       "      <td>data:image/gif;base64,R0lGODlhAQABAIAAAP//////...</td>\n",
       "    </tr>\n",
       "    <tr>\n",
       "      <th>1</th>\n",
       "      <td>How to buy Reliance's Rs 16,499 Jio Book 4G la...</td>\n",
       "      <td>The Economic Times</td>\n",
       "      <td>3 days ago</td>\n",
       "      <td>2023-08-03 14:00:14.027475</td>\n",
       "      <td>Reliance Retail has launched the Jio Book 4G l...</td>\n",
       "      <td>https://m.economictimes.com/news/how-to/how-to...</td>\n",
       "      <td>data:image/gif;base64,R0lGODlhAQABAIAAAP//////...</td>\n",
       "    </tr>\n",
       "    <tr>\n",
       "      <th>2</th>\n",
       "      <td>Can Reliance become a formidable player in aff...</td>\n",
       "      <td>ET Telecom</td>\n",
       "      <td>3 days ago</td>\n",
       "      <td>2023-08-03 14:00:14.033455</td>\n",
       "      <td>As per the listing on Amazon and Reliance Reta...</td>\n",
       "      <td>https://telecom.economictimes.indiatimes.com/n...</td>\n",
       "      <td>data:image/gif;base64,R0lGODlhAQABAIAAAP//////...</td>\n",
       "    </tr>\n",
       "    <tr>\n",
       "      <th>3</th>\n",
       "      <td>Reliance Signs Pact With Brookfield For Austra...</td>\n",
       "      <td>Outlook India</td>\n",
       "      <td>4 days ago</td>\n",
       "      <td>2023-08-02 14:00:14.040432</td>\n",
       "      <td>Brookfield will work with Reliance to explore ...</td>\n",
       "      <td>https://www.outlookindia.com/business/reliance...</td>\n",
       "      <td>data:image/gif;base64,R0lGODlhAQABAIAAAP//////...</td>\n",
       "    </tr>\n",
       "    <tr>\n",
       "      <th>4</th>\n",
       "      <td>RIL, Brookfield tie up to make green energy it...</td>\n",
       "      <td>The Times of India</td>\n",
       "      <td>4 days ago</td>\n",
       "      <td>2023-08-02 14:00:14.047409</td>\n",
       "      <td>NEW DELHI: Reliance Industries Ltd is looking ...</td>\n",
       "      <td>https://m.timesofindia.com/business/india-busi...</td>\n",
       "      <td>data:image/gif;base64,R0lGODlhAQABAIAAAP//////...</td>\n",
       "    </tr>\n",
       "  </tbody>\n",
       "</table>\n",
       "</div>"
      ],
      "text/plain": [
       "                                               title               media  \\\n",
       "0  Reliance JioBook laptop on sale for ₹16,499. H...     Hindustan Times   \n",
       "1  How to buy Reliance's Rs 16,499 Jio Book 4G la...  The Economic Times   \n",
       "2  Can Reliance become a formidable player in aff...          ET Telecom   \n",
       "3  Reliance Signs Pact With Brookfield For Austra...       Outlook India   \n",
       "4  RIL, Brookfield tie up to make green energy it...  The Times of India   \n",
       "\n",
       "         date                   datetime  \\\n",
       "0  2 days ago 2023-08-04 14:00:14.020499   \n",
       "1  3 days ago 2023-08-03 14:00:14.027475   \n",
       "2  3 days ago 2023-08-03 14:00:14.033455   \n",
       "3  4 days ago 2023-08-02 14:00:14.040432   \n",
       "4  4 days ago 2023-08-02 14:00:14.047409   \n",
       "\n",
       "                                                desc  \\\n",
       "0  Reliance Retail on Monday announced the second...   \n",
       "1  Reliance Retail has launched the Jio Book 4G l...   \n",
       "2  As per the listing on Amazon and Reliance Reta...   \n",
       "3  Brookfield will work with Reliance to explore ...   \n",
       "4  NEW DELHI: Reliance Industries Ltd is looking ...   \n",
       "\n",
       "                                                link  \\\n",
       "0  https://www.hindustantimes.com/technology/reli...   \n",
       "1  https://m.economictimes.com/news/how-to/how-to...   \n",
       "2  https://telecom.economictimes.indiatimes.com/n...   \n",
       "3  https://www.outlookindia.com/business/reliance...   \n",
       "4  https://m.timesofindia.com/business/india-busi...   \n",
       "\n",
       "                                                 img  \n",
       "0  data:image/gif;base64,R0lGODlhAQABAIAAAP//////...  \n",
       "1  data:image/gif;base64,R0lGODlhAQABAIAAAP//////...  \n",
       "2  data:image/gif;base64,R0lGODlhAQABAIAAAP//////...  \n",
       "3  data:image/gif;base64,R0lGODlhAQABAIAAAP//////...  \n",
       "4  data:image/gif;base64,R0lGODlhAQABAIAAAP//////...  "
      ]
     },
     "execution_count": 3,
     "metadata": {},
     "output_type": "execute_result"
    }
   ],
   "source": [
    "googlenews=GoogleNews(start='8/01/2023',end='8/06/2023')\n",
    "googlenews.search('Reliance')\n",
    "result=googlenews.result()\n",
    "df=pd.DataFrame(result)\n",
    "df.head()"
   ]
  },
  {
   "cell_type": "code",
   "execution_count": 26,
   "metadata": {},
   "outputs": [
    {
     "name": "stdout",
     "output_type": "stream",
     "text": [
      "['Reliance JioBook laptop on sale for ₹16,499. Here are its top features', 'Reliance launches JioBook laptop at Rs 16,499', 'Can Reliance become a formidable player in affordable laptop segment with JioBook?', 'Reliance signs pact with Brookfield for Australia renewable energy venture', 'RIL, Brookfield tie up to make green energy items in Australia', 'Reliance partners Brookfield on clean energy projects in ...', 'Fortune Global 500: Reliance jumps 16 places, LIC slips 9. Details on 8 Indian companies featured on list | Mint', \"Reliance shares: Bernstein retains 'Outperform' rating with 19% upside — key levels to watch\", 'Reliance Power Share Price Today Updates: Reliance Power Witnesses 5.26% Surge in Stock Price, SMA5 at R...', 'Reliance industries goes bankrupt']\n"
     ]
    }
   ],
   "source": [
    "# make an array of titles \n",
    "\n",
    "titles = []\n",
    "for i in range(len(df)):\n",
    "    titles.append(df['title'][i])\n",
    "    \n",
    "\n",
    "titles.append(\"Reliance industries goes bankrupt\")\n",
    "print(titles)\n",
    "\n",
    "\n"
   ]
  },
  {
   "cell_type": "code",
   "execution_count": 6,
   "metadata": {},
   "outputs": [],
   "source": [
    "# load the news.h5 modeln\n",
    "model = load_model('./news_model_3.h5')\n",
    "#load the tokenizer\n",
    "with open('./tokenizer.pickle', 'rb') as handle:\n",
    "    tokenizer = pickle.load(handle)\n",
    "sequence_length = 100\n",
    "\n",
    "\n",
    "\n",
    "\n",
    "    "
   ]
  },
  {
   "cell_type": "code",
   "execution_count": 7,
   "metadata": {},
   "outputs": [],
   "source": [
    "sequence = tokenizer.texts_to_sequences([sentence])\n",
    "sequence_padded = tf.keras.preprocessing.sequence.pad_sequences(sequence, maxlen=sequence_length)"
   ]
  },
  {
   "cell_type": "code",
   "execution_count": 8,
   "metadata": {},
   "outputs": [
    {
     "name": "stdout",
     "output_type": "stream",
     "text": [
      "1/1 [==============================] - 0s 160ms/step\n",
      "1\n"
     ]
    }
   ],
   "source": [
    "prediction_probs = model.predict(sequence_padded)\n",
    "predicted_label = np.argmax(prediction_probs)\n",
    "\n",
    "print(predicted_label)"
   ]
  },
  {
   "cell_type": "code",
   "execution_count": 3,
   "metadata": {},
   "outputs": [],
   "source": [
    "def get_pred(sentence):\n",
    "    sequence = tokenizer.texts_to_sequences([sentence])\n",
    "    sequence_padded = tf.keras.preprocessing.sequence.pad_sequences(sequence, maxlen=sequence_length)\n",
    "    prediction_probs = model.predict(sequence_padded)\n",
    "    predicted_label = np.argmax(prediction_probs)\n",
    "    return predicted_label\n",
    "\n",
    "    \n"
   ]
  },
  {
   "cell_type": "code",
   "execution_count": 27,
   "metadata": {},
   "outputs": [
    {
     "name": "stdout",
     "output_type": "stream",
     "text": [
      "1/1 [==============================] - 0s 23ms/step\n",
      "1/1 [==============================] - 0s 18ms/step\n",
      "1/1 [==============================] - 0s 18ms/step\n",
      "1/1 [==============================] - 0s 16ms/step\n",
      "1/1 [==============================] - 0s 17ms/step\n",
      "1/1 [==============================] - 0s 17ms/step\n",
      "1/1 [==============================] - 0s 17ms/step\n",
      "1/1 [==============================] - 0s 17ms/step\n",
      "1/1 [==============================] - 0s 15ms/step\n",
      "1/1 [==============================] - 0s 17ms/step\n",
      "[1, 1, 1, 1, 1, 1, 1, 1, 1, 1]\n"
     ]
    }
   ],
   "source": [
    "def Predict(titles):\n",
    "    preds = []\n",
    "    for title in titles:\n",
    "        pred = get_pred(title)\n",
    "        preds.append(pred)\n",
    "    return preds\n",
    "\n",
    "print(Predict(titles=titles))\n",
    "        \n",
    "        "
   ]
  },
  {
   "cell_type": "code",
   "execution_count": 28,
   "metadata": {},
   "outputs": [
    {
     "name": "stdout",
     "output_type": "stream",
     "text": [
      "1/1 [==============================] - 0s 16ms/step\n",
      "1\n"
     ]
    }
   ],
   "source": [
    "print(get_pred(\"Reliance Industries goes bankrupt\"))"
   ]
  },
  {
   "cell_type": "code",
   "execution_count": 7,
   "metadata": {},
   "outputs": [
    {
     "name": "stdout",
     "output_type": "stream",
     "text": [
      "[-1 -1 -1 -1 -1 -1 -1 -1 -1 -1]\n"
     ]
    }
   ],
   "source": [
    "print(np.full(10,-1))"
   ]
  },
  {
   "cell_type": "code",
   "execution_count": 6,
   "metadata": {},
   "outputs": [
    {
     "name": "stdout",
     "output_type": "stream",
     "text": [
      "1.                                 Home\n",
      "                                \n",
      "2.                                 Magazine\n",
      "                                \n",
      "3.                                 BT TV\n",
      "                                \n",
      "4.                                 Market Today\n",
      "                                \n",
      "5.                                 Tech Today\n",
      "                                \n",
      "6.                                 Money Today\n",
      "                                \n",
      "7.                                 Mutual Funds\n",
      "                                \n",
      "8.                                 UPSTART\n",
      "                                \n",
      "9.                                 Industry\n",
      "                                \n",
      "10.                                 BTShorts\n",
      "                                \n",
      "11.                                 Visual Stories\n",
      "                                \n",
      "12.                                 BT Reels\n",
      "                                \n",
      "13.                                 Immersives\n",
      "                                \n",
      "14.                                 Economy\n",
      "                                \n",
      "15.                                 Tools & Calculators\n",
      "                                \n",
      "16.                                 Petrol-Diesel\n",
      "                                \n",
      "17.                                 Weather\n",
      "                                \n",
      "18.                                 IPO Corner\n",
      "                                \n",
      "19. Stocks in news: SBI, Varun Beverages, Adani Power, Zomato, Adani Enterprises and more \n",
      "20. Stocks in news: IndiGo, Adani Enterprises, Vedanta, Gujarat Gas, JSW Steel and more \n",
      "21. Stocks in news: Adani Wilmar, Metro Brands, Titan, IndiGo, Sula Vineyards and more\n",
      "22. Stocks in news: Adani Total Gas, Castrol India, Adani Energy Solutions, JBM Auto and more \n",
      "23. Stocks in news: Adani Green, Marico, PowerGrid, IDFC First Bank and more \n",
      "24. Stocks in news: Adani Enterprises, RailTel, Indian Hotels, SBI Card and more \n",
      "25. Stocks in news: Tata Steel, Adani Green Energy, Titan, Suzlon Energy and more\n",
      "26. Stocks in news: Tata Power, Adani Wilmar, Marico, JSW Steel and more \n",
      "27. Adani stocks in news on report promoters may cut stakes in group firms\n",
      "28. Suzlon Energy, IOC, Adani Green Energy shares in news ahead of fundraising meetings\n"
     ]
    }
   ],
   "source": [
    "\n",
    "\n",
    "\n",
    "# IMPORT ALL THE REQUIRED LIBRARIES\n",
    "from bs4 import BeautifulSoup as BS\n",
    "import requests as req\n",
    " \n",
    "url = \"https://www.businesstoday.in/topic/Adani News\"\n",
    " \n",
    "webpage = req.get(url)\n",
    "trav = BS(webpage.content, \"html.parser\")\n",
    "M = 1\n",
    "for link in trav.find_all('a'):\n",
    "   \n",
    "    # PASTE THE CLASS TYPE THAT WE GET\n",
    "    # FROM THE ABOVE CODE IN THIS AND\n",
    "    # SET THE LIMIT GREATER THAN 35\n",
    "    if(str(type(link.string)) == \"<class 'bs4.element.NavigableString'>\"\n",
    "       and len(link.string) > 35):\n",
    " \n",
    "        print(str(M)+\".\", link.string)\n",
    "        M += 1\n"
   ]
  },
  {
   "cell_type": "code",
   "execution_count": 10,
   "metadata": {},
   "outputs": [],
   "source": [
    "from GoogleNews import GoogleNews\n",
    "import pandas as pd\n",
    "import numpy as np\n",
    "import datetime\n",
    "\n",
    "def getNews(symbol):\n",
    "    date_today = datetime.datetime.today().strftime('%Y/%m/%d')\n",
    "    date_7_days_ago = (datetime.datetime.today() - datetime.timedelta(days=7)).strftime('%Y/%m/%d')\n",
    "    googlenews = GoogleNews()\n",
    "    googlenews.search(symbol)\n",
    "    result = googlenews.result()\n",
    "    df = pd.DataFrame(result)\n",
    "    df.head()\n"
   ]
  },
  {
   "cell_type": "code",
   "execution_count": 11,
   "metadata": {},
   "outputs": [],
   "source": [
    "getNews('Reliance')"
   ]
  }
 ],
 "metadata": {
  "kernelspec": {
   "display_name": "Python 3",
   "language": "python",
   "name": "python3"
  },
  "language_info": {
   "codemirror_mode": {
    "name": "ipython",
    "version": 3
   },
   "file_extension": ".py",
   "mimetype": "text/x-python",
   "name": "python",
   "nbconvert_exporter": "python",
   "pygments_lexer": "ipython3",
   "version": "3.11.2"
  },
  "orig_nbformat": 4
 },
 "nbformat": 4,
 "nbformat_minor": 2
}
